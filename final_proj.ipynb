{
 "cells": [
  {
   "cell_type": "code",
   "execution_count": 1,
   "id": "plastic-discount",
   "metadata": {},
   "outputs": [
    {
     "name": "stderr",
     "output_type": "stream",
     "text": [
      "/opt/anaconda3/envs/ml/lib/python3.8/site-packages/sklearn/utils/deprecation.py:144: FutureWarning: The sklearn.feature_selection.base module is  deprecated in version 0.22 and will be removed in version 0.24. The corresponding classes / functions should instead be imported from sklearn.feature_selection. Anything that cannot be imported from sklearn.feature_selection is now part of the private API.\n",
      "  warnings.warn(message, FutureWarning)\n"
     ]
    }
   ],
   "source": [
    "import numpy as np\n",
    "import pandas as pd\n",
    "import pickle\n",
    "import eli5\n",
    "from   utils                   import *\n",
    "from   sklearn.compose         import *\n",
    "from   sklearn.experimental    import enable_iterative_imputer\n",
    "from   sklearn.impute          import *\n",
    "from   sklearn.linear_model    import *\n",
    "from   sklearn.ensemble        import *\n",
    "from   sklearn.tree            import *\n",
    "from   sklearn.svm             import LinearSVR\n",
    "from   sklearn.metrics         import *\n",
    "from   sklearn.model_selection import train_test_split\n",
    "from   sklearn.pipeline        import Pipeline\n",
    "from   sklearn.preprocessing   import *\n",
    "from   sklearn.base            import BaseEstimator, TransformerMixin\n",
    "from   sklearn.model_selection import RandomizedSearchCV, GridSearchCV\n",
    "from   sklearn.inspection      import permutation_importance"
   ]
  },
  {
   "cell_type": "code",
   "execution_count": null,
   "id": "careful-valuable",
   "metadata": {},
   "outputs": [],
   "source": [
    "! pip install streamlit"
   ]
  },
  {
   "cell_type": "code",
   "execution_count": null,
   "id": "featured-nickel",
   "metadata": {},
   "outputs": [],
   "source": [
    "! pip install eli5 category_encoders"
   ]
  },
  {
   "cell_type": "markdown",
   "id": "thorough-formula",
   "metadata": {},
   "source": [
    "# Research question:  \n",
    "Can a linear or tree-based regression model be used to predict the number of bikes rented on a given day in London?"
   ]
  },
  {
   "cell_type": "markdown",
   "id": "aquatic-discretion",
   "metadata": {},
   "source": [
    "# Load data"
   ]
  },
  {
   "cell_type": "code",
   "execution_count": 100,
   "id": "angry-racing",
   "metadata": {},
   "outputs": [],
   "source": [
    "bikes = pd.read_csv('london_merged.csv')\n",
    "X = bikes.drop(['cnt'], axis=1)\n",
    "y = np.ravel(bikes[['cnt']])"
   ]
  },
  {
   "cell_type": "markdown",
   "id": "solved-cleaners",
   "metadata": {},
   "source": [
    "# Fit initial model\n",
    "Fit a simple OLS linear regression with no feature engineering to serve as a baseline for target metrics. I will evaluate this model (and all models going forward) using R2, MAE, and RMSE. R2 gives a comparison to a baseline, \"y-bar\" regressor, MAE gives error in the same units as y, and RMSE is less sensitive to outliers. These are the most common metrics for regressors and together they give a broad interpretation of the model's performance."
   ]
  },
  {
   "cell_type": "code",
   "execution_count": 101,
   "id": "consistent-keeping",
   "metadata": {},
   "outputs": [
    {
     "name": "stdout",
     "output_type": "stream",
     "text": [
      "MAE: 683.2224601748163, RMSE: 928.97397493709, R2: 0.26727541744328775\n"
     ]
    }
   ],
   "source": [
    "X_init = X.drop(['timestamp'], axis=1)\n",
    "X_train_init, X_validation_init, y_train_init, y_validation_init = train_test_split(X_init, y)\n",
    "lm = LinearRegression()\n",
    "lm.fit(X_train_init, y_train_init)\n",
    "y_pred = lm.predict(X_validation_init)\n",
    "mae = mean_absolute_error(y_validation_init, y_pred) #ground truth then predicted set\n",
    "rmse = np.sqrt(mean_squared_error(y_validation_init, y_pred))\n",
    "r2 = r2_score(y_validation_init, y_pred)\n",
    "print(f\"MAE: {mae}, RMSE: {rmse}, R2: {r2}\")"
   ]
  },
  {
   "cell_type": "markdown",
   "id": "forced-maryland",
   "metadata": {},
   "source": [
    "With this baseline model, the error is pretty high -- for any given prediction, the model is almost 700 bikes off from the true number of bikes rented, and the model only accounts for about 25% of the variability in the target. From here I will perform feature engineering and iterative model selection to see how much I can improve performance using a basic sklearn regression model."
   ]
  },
  {
   "cell_type": "markdown",
   "id": "inside-saturday",
   "metadata": {},
   "source": [
    "# Split data  \n",
    "Split into train, validation and test splits using default sklearn 80-20 split. "
   ]
  },
  {
   "cell_type": "code",
   "execution_count": 102,
   "id": "disturbed-plymouth",
   "metadata": {},
   "outputs": [],
   "source": [
    "X_train, X_test, y_train, y_test = train_test_split(X, y)\n",
    "X_train, X_validation, y_train, y_validation = train_test_split(X_train, y_train)"
   ]
  },
  {
   "cell_type": "markdown",
   "id": "demanding-patrick",
   "metadata": {},
   "source": [
    "# Model Selection \n",
    "I will split model selection into 2 sections, one for linear models and one for tree models. I'll test a handful of model and hyperparameter combinations in each category using RandomizedSearchCV, as it provides a decent set of candidates in much less time than grid search. I'll contain all data transformations within a Pipeline object so all transformations on train/val/test sets can be organized and streamlined. I've defined a few helper functions to aid in data transformation inside sklearn ColumnTransformers (see helpers.py). "
   ]
  },
  {
   "cell_type": "markdown",
   "id": "cross-multiple",
   "metadata": {},
   "source": [
    "## Pipeline\n",
    "Add all preprocessing steps to a pipeline object. The dataset is clean but I'll include a simple imputer on all steps for consistency and in case a manually supplied feature vector contains missing values. I'll use a custom Dummy Estimator as the last step in the pipeline so I can plug in different models during hyperparameter search. I'll use this same pipeline to test all candidate models."
   ]
  },
  {
   "cell_type": "code",
   "execution_count": 103,
   "id": "relative-jenny",
   "metadata": {},
   "outputs": [],
   "source": [
    "# Pipeline for continuous data\n",
    "con_pipe = Pipeline([('scaler', RobustScaler()),\n",
    "                     ('imputer', SimpleImputer(strategy='median',\n",
    "                                       add_indicator=True))])   \n",
    "\n",
    "# Pipeline for categorical data\n",
    "cat_pipe = Pipeline([('ohe', OneHotEncoder(handle_unknown='ignore')),\n",
    "                     ('imputer', SimpleImputer(strategy='most_frequent',\n",
    "                                       add_indicator=True))])  \n",
    "\n",
    "# Split date column into hour, day of week, day of month, and month columns\n",
    "# Returns 4 new columns @ position 0,1,2,3 in X np array \n",
    "clean_dates = ColumnTransformer([('split_time',  \n",
    "                                  FunctionTransformer(split_dates, \n",
    "                                                      validate=False), \n",
    "                                    ['timestamp'])],\n",
    "                                   sparse_threshold=0,remainder='passthrough') \n",
    "\n",
    "# Combine continuous and categorical steps\n",
    "preprocessing = ColumnTransformer([('categorical', cat_pipe, [0,1,2,3,8,9,10,11]),\n",
    "                                   ('continuous',  con_pipe, [4,5,6,7])],\n",
    "                                   sparse_threshold=0,remainder='passthrough')\n",
    "\n",
    "# Combine all steps and standardize the target to a normal distribution\n",
    "transformer = QuantileTransformer(output_distribution='normal') # transform y\n",
    "pipe = Pipeline([('clean_dates', clean_dates),\n",
    "                 ('preprocessing', preprocessing),\n",
    "                 ('lm',TransformedTargetRegressor(regressor=DummyEstimator(),\n",
    "                                         transformer=transformer))])"
   ]
  },
  {
   "cell_type": "markdown",
   "id": "standard-nylon",
   "metadata": {},
   "source": [
    "## Linear Models  \n",
    "Define a search space containing all of the linear models I want to try and a range of hyperparameters for each to run through. Pass it all into RandomizedSearchCV with my pipeline as the estimator. Fit the best model on X and y training sets."
   ]
  },
  {
   "cell_type": "code",
   "execution_count": 104,
   "id": "laden-organization",
   "metadata": {},
   "outputs": [
    {
     "name": "stdout",
     "output_type": "stream",
     "text": [
      "Fitting 5 folds for each of 25 candidates, totalling 125 fits\n"
     ]
    },
    {
     "name": "stderr",
     "output_type": "stream",
     "text": [
      "[Parallel(n_jobs=-1)]: Using backend LokyBackend with 8 concurrent workers.\n",
      "[Parallel(n_jobs=-1)]: Done  34 tasks      | elapsed:    7.2s\n",
      "[Parallel(n_jobs=-1)]: Done 125 out of 125 | elapsed:   27.4s finished\n"
     ]
    },
    {
     "data": {
      "text/plain": [
       "(BayesianRidge(alpha_1=1, alpha_2=0.001, alpha_init=None, compute_score=False,\n",
       "               copy_X=True, fit_intercept=True, lambda_1=1e-06, lambda_2=1e-06,\n",
       "               lambda_init=None, n_iter=300, normalize=False, tol=0.001,\n",
       "               verbose=False),\n",
       " 0.7209786790245163)"
      ]
     },
     "execution_count": 104,
     "metadata": {},
     "output_type": "execute_result"
    }
   ],
   "source": [
    "# Create grid of candidate learning algorithms and their hyperparameters\n",
    "search_space = [{'lm': [LinearRegression()]}, \n",
    "                \n",
    "                {'lm': [Ridge()],  \n",
    "                 'lm__alpha': [1e-6, 1e-3, .1, 1]},\n",
    "               \n",
    "                {'lm': [BayesianRidge()], \n",
    "                 'lm__alpha_1': [1e-6, 1e-3, .1, 1],\n",
    "                 'lm__alpha_2': [1e-6, 1e-3, .1, 1]},\n",
    "                \n",
    "                {'lm': [SGDRegressor()],  \n",
    "                 'lm__loss': ['squared_loss', 'huber', 'epsilon_insensitive', \n",
    "                              'squared_epsilon_insensitive'],\n",
    "                 'lm__penalty': ['l2', 'l1', 'elasticnet'],\n",
    "                 'lm__alpha': [1e-6, 1e-3, .1, 1]}\n",
    "               ]\n",
    "\n",
    "# Good ol' random search\n",
    "lm_algos_rand = RandomizedSearchCV(estimator=pipe, \n",
    "                                    param_distributions=search_space, \n",
    "                                    n_iter=25,\n",
    "                                    cv=5, \n",
    "                                    n_jobs=-1,\n",
    "                                    verbose=1,\n",
    "                                    scoring=['r2','neg_mean_absolute_error', \n",
    "                                             'neg_root_mean_squared_error'],\n",
    "                                    refit='r2',\n",
    "                                    return_train_score=True)\n",
    "\n",
    "#  Fit random search\n",
    "best_linear_model = lm_algos_rand.fit(X_train, y_train)\n",
    "results = lm_algos_rand.cv_results_\n",
    "\n",
    "# View best model\n",
    "best_linear_model.best_estimator_.get_params()['lm'], best_linear_model.best_score_"
   ]
  },
  {
   "cell_type": "markdown",
   "id": "parliamentary-chosen",
   "metadata": {},
   "source": [
    "R2 has already significantly improved compared to baseline. I will now try the same feature space but with the new date columns treated as ordinal instead of one-hot-encoded."
   ]
  },
  {
   "cell_type": "markdown",
   "id": "thousand-funds",
   "metadata": {},
   "source": [
    "## Try treating date columns as ordinal"
   ]
  },
  {
   "cell_type": "code",
   "execution_count": 105,
   "id": "tutorial-furniture",
   "metadata": {},
   "outputs": [
    {
     "name": "stdout",
     "output_type": "stream",
     "text": [
      "Fitting 5 folds for each of 25 candidates, totalling 125 fits\n"
     ]
    },
    {
     "name": "stderr",
     "output_type": "stream",
     "text": [
      "[Parallel(n_jobs=-1)]: Using backend LokyBackend with 8 concurrent workers.\n",
      "[Parallel(n_jobs=-1)]: Done  34 tasks      | elapsed:   15.0s\n",
      "[Parallel(n_jobs=-1)]: Done 125 out of 125 | elapsed:   35.4s finished\n"
     ]
    },
    {
     "data": {
      "text/plain": [
       "(Ridge(alpha=1, copy_X=True, fit_intercept=True, max_iter=None, normalize=False,\n",
       "       random_state=None, solver='auto', tol=0.001),\n",
       " 0.7209847024383486)"
      ]
     },
     "execution_count": 105,
     "metadata": {},
     "output_type": "execute_result"
    }
   ],
   "source": [
    "# Pipeline for ordinal data (date columns)\n",
    "ord_pipe = Pipeline([('enc', OrdinalEncoder()),\n",
    "                     ('imputer', SimpleImputer(strategy='most_frequent',\n",
    "                                       add_indicator=True))])  \n",
    "\n",
    "# Add to preprocessing \n",
    "preprocessing = ColumnTransformer([('nominal', cat_pipe, [8,9,10,11]),\n",
    "                                   ('continuous',  con_pipe, [4,5,6,7]),\n",
    "                                   ('ordinal', ord_pipe, [0,1,2,3])],\n",
    "                                   sparse_threshold=0,remainder='passthrough')\n",
    "pipe = Pipeline([('clean_dates', clean_dates),\n",
    "                 ('preprocessing', preprocessing),\n",
    "                 ('lm',TransformedTargetRegressor(regressor=DummyEstimator(),\n",
    "                                         transformer=transformer))])\n",
    "\n",
    "# Refit\n",
    "best_linear_model = lm_algos_rand.fit(X_train, y_train)\n",
    "results = lm_algos_rand.cv_results_\n",
    "\n",
    "# View best model\n",
    "best_linear_model.best_estimator_.get_params()['lm'], best_linear_model.best_score_"
   ]
  },
  {
   "cell_type": "markdown",
   "id": "pleasant-copper",
   "metadata": {},
   "source": [
    "R2 is about the same so I will keep this as the best model. "
   ]
  },
  {
   "cell_type": "markdown",
   "id": "affiliated-enough",
   "metadata": {},
   "source": [
    "## Validation scores of best linear model"
   ]
  },
  {
   "cell_type": "code",
   "execution_count": 106,
   "id": "hollow-omega",
   "metadata": {},
   "outputs": [
    {
     "name": "stdout",
     "output_type": "stream",
     "text": [
      "R2: 0.6882166508913153, MAE: 403.50168429947274, RMSE: 595.171237038423\n"
     ]
    }
   ],
   "source": [
    "y_pred = best_linear_model.predict(X_validation)\n",
    "r2 = r2_score(y_validation, y_pred)\n",
    "mae = mean_absolute_error(y_validation, y_pred)\n",
    "rmse = np.sqrt(mean_squared_error(y_validation, y_pred))\n",
    "print(f\"R2: {r2}, MAE: {mae}, RMSE: {rmse}\")"
   ]
  },
  {
   "cell_type": "markdown",
   "id": "educated-conservative",
   "metadata": {},
   "source": [
    "Splitting up the time column significantly improved the model performance right off the bat."
   ]
  },
  {
   "cell_type": "markdown",
   "id": "brazilian-stone",
   "metadata": {},
   "source": [
    "## Tree Models"
   ]
  },
  {
   "cell_type": "code",
   "execution_count": 107,
   "id": "revolutionary-daniel",
   "metadata": {},
   "outputs": [
    {
     "name": "stdout",
     "output_type": "stream",
     "text": [
      "Fitting 5 folds for each of 25 candidates, totalling 125 fits\n"
     ]
    },
    {
     "name": "stderr",
     "output_type": "stream",
     "text": [
      "[Parallel(n_jobs=-1)]: Using backend LokyBackend with 8 concurrent workers.\n",
      "[Parallel(n_jobs=-1)]: Done  34 tasks      | elapsed:   22.7s\n",
      "[Parallel(n_jobs=-1)]: Done 125 out of 125 | elapsed:  2.6min finished\n"
     ]
    },
    {
     "data": {
      "text/plain": [
       "(GradientBoostingRegressor(alpha=0.9, ccp_alpha=0.0, criterion='friedman_mse',\n",
       "                           init=None, learning_rate=0.1, loss='ls', max_depth=10,\n",
       "                           max_features=None, max_leaf_nodes=None,\n",
       "                           min_impurity_decrease=0.0, min_impurity_split=None,\n",
       "                           min_samples_leaf=2, min_samples_split=2,\n",
       "                           min_weight_fraction_leaf=0.0, n_estimators=100,\n",
       "                           n_iter_no_change=None, presort='deprecated',\n",
       "                           random_state=None, subsample=1.0, tol=0.0001,\n",
       "                           validation_fraction=0.1, verbose=0, warm_start=False),\n",
       " 0.9618058832902984)"
      ]
     },
     "execution_count": 107,
     "metadata": {},
     "output_type": "execute_result"
    }
   ],
   "source": [
    "# Same pipeline as before\n",
    "pipe = Pipeline([('clean_dates', clean_dates),\n",
    "                 ('preprocessing', preprocessing),\n",
    "                 ('dt', DummyEstimator())])\n",
    "\n",
    "# Handful of tree regressors and hyperparameter ranges\n",
    "search_space = [{'dt': [DecisionTreeRegressor()],\n",
    "                  'dt__criterion': ['mse', 'friedman_mse', 'mae', 'poisson'],\n",
    "                  'dt__max_depth': [3, 10, 20, None],\n",
    "                  'dt__min_samples_leaf': [1,2,3,4,5]\n",
    "                  },\n",
    "                \n",
    "                 {'dt': [RandomForestRegressor()],  \n",
    "                  'dt__n_estimators': [100, 200, 300],\n",
    "                  'dt__max_depth': [3, 10, 20, None],\n",
    "                  'dt__min_samples_leaf': [1,2,3,4,5]},\n",
    "               \n",
    "                 {'dt': [AdaBoostRegressor()],\n",
    "                  'dt__n_estimators': [50, 100, 200]},\n",
    "                \n",
    "                 {'dt': [GradientBoostingRegressor()], \n",
    "                  'dt__loss': ['ls', 'lad', 'huber', 'quantile'],\n",
    "                  'dt__max_depth': [3, 10, 20, None],\n",
    "                  'dt__min_samples_leaf': [1,2,3,4,5]},\n",
    "                \n",
    "                 {'dt': [StackingRegressor(estimators=[('lr', RidgeCV()),('svr', LinearSVR())],\n",
    "                                            final_estimator=RandomForestRegressor(n_estimators=10))]}\n",
    "               ]\n",
    "\n",
    "# Plug everything into random search\n",
    "dt_algos_rand = RandomizedSearchCV(estimator=pipe, \n",
    "                                    param_distributions=search_space, \n",
    "                                    n_iter=25,\n",
    "                                    cv=5, \n",
    "                                    n_jobs=-1,\n",
    "                                    verbose=1,\n",
    "                                    scoring=['r2','neg_mean_absolute_error', 'neg_root_mean_squared_error'],\n",
    "                                    refit='r2',\n",
    "                                    return_train_score=True)\n",
    "\n",
    "# Fit best model on X and y training sets\n",
    "best_tree_model = dt_algos_rand.fit(X_train, y_train);\n",
    "\n",
    "# View best model\n",
    "best_tree_model.best_estimator_.get_params()['dt'], best_tree_model.best_score_"
   ]
  },
  {
   "cell_type": "markdown",
   "id": "accepted-mills",
   "metadata": {},
   "source": [
    "## Validation scores of best tree model"
   ]
  },
  {
   "cell_type": "code",
   "execution_count": 108,
   "id": "working-gallery",
   "metadata": {},
   "outputs": [
    {
     "name": "stdout",
     "output_type": "stream",
     "text": [
      "R2: 0.9605229828223266, MAE: 112.06335814016555, RMSE: 211.78131528543193\n"
     ]
    }
   ],
   "source": [
    "y_pred = best_tree_model.predict(X_validation)\n",
    "r2 = r2_score(y_validation, y_pred)\n",
    "mae = mean_absolute_error(y_validation, y_pred)\n",
    "rmse = np.sqrt(mean_squared_error(y_validation, y_pred))\n",
    "print(f\"R2: {r2}, MAE: {mae}, RMSE: {rmse}\")"
   ]
  },
  {
   "cell_type": "markdown",
   "id": "killing-skiing",
   "metadata": {},
   "source": [
    "This model yields the lowest errors and highest R2 yet. The model now accounts for about 95% of the variability in y and is only about 118 bikes off in prediction compared to almost 700 with the baseline OLS linear regression. I will choose this as my final model and use it to calculate test error."
   ]
  },
  {
   "cell_type": "markdown",
   "id": "ongoing-conversion",
   "metadata": {},
   "source": [
    "# Final Model"
   ]
  },
  {
   "cell_type": "code",
   "execution_count": null,
   "id": "better-syracuse",
   "metadata": {},
   "outputs": [],
   "source": [
    "pipe = Pipeline([('clean_dates', clean_dates),\n",
    "                 ('preprocessing', preprocessing),\n",
    "                 ('dt',GradientBoostingRegressor(alpha=0.9, ccp_alpha=0.0, criterion='friedman_mse',\n",
    "                           init=None, learning_rate=0.1, loss='ls', max_depth=10,\n",
    "                           max_features=None, max_leaf_nodes=None,\n",
    "                           min_impurity_decrease=0.0, min_impurity_split=None,\n",
    "                           min_samples_leaf=2, min_samples_split=2,\n",
    "                           min_weight_fraction_leaf=0.0, n_estimators=100,\n",
    "                           n_iter_no_change=None, presort='deprecated',\n",
    "                           random_state=None, subsample=1.0, tol=0.0001,\n",
    "                           validation_fraction=0.1, verbose=0, warm_start=False))])\n",
    "\n",
    "pipe.fit(X_train, y_train)"
   ]
  },
  {
   "cell_type": "markdown",
   "id": "stuck-medicine",
   "metadata": {},
   "source": [
    "# Visual representation of pipeline and best model"
   ]
  },
  {
   "cell_type": "code",
   "execution_count": 110,
   "id": "bacterial-arlington",
   "metadata": {},
   "outputs": [
    {
     "data": {
      "text/plain": [
       "[('clean_dates',\n",
       "  ColumnTransformer(n_jobs=None, remainder='passthrough', sparse_threshold=0,\n",
       "                    transformer_weights=None,\n",
       "                    transformers=[('split_time',\n",
       "                                   FunctionTransformer(accept_sparse=False,\n",
       "                                                       check_inverse=True,\n",
       "                                                       func=<function split_dates at 0x7fb6de2375e0>,\n",
       "                                                       inv_kw_args=None,\n",
       "                                                       inverse_func=None,\n",
       "                                                       kw_args=None,\n",
       "                                                       validate=False),\n",
       "                                   ['timestamp'])],\n",
       "                    verbose=False)),\n",
       " ('preprocessing',\n",
       "  ColumnTransformer(n_jobs=None, remainder='passthrough', sparse_threshold=0,\n",
       "                    transformer_weights=None,\n",
       "                    transformers=[('nominal',\n",
       "                                   Pipeline(memory=None,\n",
       "                                            steps=[('ohe',\n",
       "                                                    OneHotEncoder(categories='auto',\n",
       "                                                                  drop=None,\n",
       "                                                                  dtype=<class 'numpy.float64'>,\n",
       "                                                                  handle_unknown='ignore',\n",
       "                                                                  sparse=True)),\n",
       "                                                   ('imputer',\n",
       "                                                    SimpleImputer(add_indicator=True,\n",
       "                                                                  copy=True,\n",
       "                                                                  fill_value=None,\n",
       "                                                                  missing_value...\n",
       "                                                                  missing_values=nan,\n",
       "                                                                  strategy='median',\n",
       "                                                                  verbose=0))],\n",
       "                                            verbose=False),\n",
       "                                   [4, 5, 6, 7]),\n",
       "                                  ('ordinal',\n",
       "                                   Pipeline(memory=None,\n",
       "                                            steps=[('enc',\n",
       "                                                    OrdinalEncoder(categories='auto',\n",
       "                                                                   dtype=<class 'numpy.float64'>)),\n",
       "                                                   ('imputer',\n",
       "                                                    SimpleImputer(add_indicator=True,\n",
       "                                                                  copy=True,\n",
       "                                                                  fill_value=None,\n",
       "                                                                  missing_values=nan,\n",
       "                                                                  strategy='most_frequent',\n",
       "                                                                  verbose=0))],\n",
       "                                            verbose=False),\n",
       "                                   [0, 1, 2, 3])],\n",
       "                    verbose=False)),\n",
       " ('dt',\n",
       "  GradientBoostingRegressor(alpha=0.9, ccp_alpha=0.0, criterion='friedman_mse',\n",
       "                            init=None, learning_rate=0.1, loss='ls', max_depth=10,\n",
       "                            max_features=None, max_leaf_nodes=None,\n",
       "                            min_impurity_decrease=0.0, min_impurity_split=None,\n",
       "                            min_samples_leaf=2, min_samples_split=2,\n",
       "                            min_weight_fraction_leaf=0.0, n_estimators=100,\n",
       "                            n_iter_no_change=None, presort='deprecated',\n",
       "                            random_state=None, subsample=1.0, tol=0.0001,\n",
       "                            validation_fraction=0.1, verbose=0, warm_start=False))]"
      ]
     },
     "execution_count": 110,
     "metadata": {},
     "output_type": "execute_result"
    }
   ],
   "source": [
    "pipe.steps"
   ]
  },
  {
   "cell_type": "markdown",
   "id": "academic-radar",
   "metadata": {},
   "source": [
    "## Test scores of final model"
   ]
  },
  {
   "cell_type": "code",
   "execution_count": 111,
   "id": "higher-reporter",
   "metadata": {},
   "outputs": [
    {
     "name": "stdout",
     "output_type": "stream",
     "text": [
      "R2: 0.9656611214996005, MAE: 117.265867589897, RMSE: 204.0339259023798\n"
     ]
    }
   ],
   "source": [
    "pipe.predict(X_test)\n",
    "y_pred = pipe.predict(X_test)\n",
    "r2 = r2_score(y_test, y_pred)\n",
    "mae = mean_absolute_error(y_test, y_pred)\n",
    "rmse = np.sqrt(mean_squared_error(y_test, y_pred))\n",
    "print(f\"R2: {r2}, MAE: {mae}, RMSE: {rmse}\")"
   ]
  },
  {
   "cell_type": "markdown",
   "id": "equipped-agriculture",
   "metadata": {},
   "source": [
    "## Feature Importance"
   ]
  },
  {
   "cell_type": "code",
   "execution_count": 118,
   "id": "corrected-parker",
   "metadata": {},
   "outputs": [
    {
     "data": {
      "text/html": [
       "\n",
       "    <style>\n",
       "    table.eli5-weights tr:hover {\n",
       "        filter: brightness(85%);\n",
       "    }\n",
       "</style>\n",
       "\n",
       "\n",
       "\n",
       "    \n",
       "\n",
       "    \n",
       "\n",
       "    \n",
       "\n",
       "    \n",
       "\n",
       "    \n",
       "\n",
       "    \n",
       "\n",
       "\n",
       "    \n",
       "\n",
       "    \n",
       "\n",
       "    \n",
       "\n",
       "    \n",
       "\n",
       "    \n",
       "\n",
       "    \n",
       "\n",
       "\n",
       "    \n",
       "\n",
       "    \n",
       "\n",
       "    \n",
       "\n",
       "    \n",
       "\n",
       "    \n",
       "        <table class=\"eli5-weights eli5-feature-importances\" style=\"border-collapse: collapse; border: none; margin-top: 0em; table-layout: auto;\">\n",
       "    <thead>\n",
       "    <tr style=\"border: none;\">\n",
       "        <th style=\"padding: 0 1em 0 0.5em; text-align: right; border: none;\">Weight</th>\n",
       "        <th style=\"padding: 0 0.5em 0 0.5em; text-align: left; border: none;\">Feature</th>\n",
       "    </tr>\n",
       "    </thead>\n",
       "    <tbody>\n",
       "    \n",
       "        <tr style=\"background-color: hsl(120, 100.00%, 80.00%); border: none;\">\n",
       "            <td style=\"padding: 0 1em 0 0.5em; text-align: right; border: none;\">\n",
       "                0.7252\n",
       "                \n",
       "                    &plusmn; 0.4570\n",
       "                \n",
       "            </td>\n",
       "            <td style=\"padding: 0 0.5em 0 0.5em; text-align: left; border: none;\">\n",
       "                season_0.0\n",
       "            </td>\n",
       "        </tr>\n",
       "    \n",
       "        <tr style=\"background-color: hsl(120, 100.00%, 96.64%); border: none;\">\n",
       "            <td style=\"padding: 0 1em 0 0.5em; text-align: right; border: none;\">\n",
       "                0.0567\n",
       "                \n",
       "                    &plusmn; 0.0526\n",
       "                \n",
       "            </td>\n",
       "            <td style=\"padding: 0 0.5em 0 0.5em; text-align: left; border: none;\">\n",
       "                is_holiday_0.0\n",
       "            </td>\n",
       "        </tr>\n",
       "    \n",
       "        <tr style=\"background-color: hsl(120, 100.00%, 97.39%); border: none;\">\n",
       "            <td style=\"padding: 0 1em 0 0.5em; text-align: right; border: none;\">\n",
       "                0.0396\n",
       "                \n",
       "                    &plusmn; 0.1232\n",
       "                \n",
       "            </td>\n",
       "            <td style=\"padding: 0 0.5em 0 0.5em; text-align: left; border: none;\">\n",
       "                is_weekend_0.0\n",
       "            </td>\n",
       "        </tr>\n",
       "    \n",
       "        <tr style=\"background-color: hsl(120, 100.00%, 97.72%); border: none;\">\n",
       "            <td style=\"padding: 0 1em 0 0.5em; text-align: right; border: none;\">\n",
       "                0.0327\n",
       "                \n",
       "                    &plusmn; 0.0809\n",
       "                \n",
       "            </td>\n",
       "            <td style=\"padding: 0 0.5em 0 0.5em; text-align: left; border: none;\">\n",
       "                season_2.0\n",
       "            </td>\n",
       "        </tr>\n",
       "    \n",
       "        <tr style=\"background-color: hsl(120, 100.00%, 98.13%); border: none;\">\n",
       "            <td style=\"padding: 0 1em 0 0.5em; text-align: right; border: none;\">\n",
       "                0.0246\n",
       "                \n",
       "                    &plusmn; 0.0324\n",
       "                \n",
       "            </td>\n",
       "            <td style=\"padding: 0 0.5em 0 0.5em; text-align: left; border: none;\">\n",
       "                weather_code_2.0\n",
       "            </td>\n",
       "        </tr>\n",
       "    \n",
       "        <tr style=\"background-color: hsl(120, 100.00%, 98.17%); border: none;\">\n",
       "            <td style=\"padding: 0 1em 0 0.5em; text-align: right; border: none;\">\n",
       "                0.0239\n",
       "                \n",
       "                    &plusmn; 0.0574\n",
       "                \n",
       "            </td>\n",
       "            <td style=\"padding: 0 0.5em 0 0.5em; text-align: left; border: none;\">\n",
       "                is_holiday_1.0\n",
       "            </td>\n",
       "        </tr>\n",
       "    \n",
       "        <tr style=\"background-color: hsl(120, 100.00%, 98.33%); border: none;\">\n",
       "            <td style=\"padding: 0 1em 0 0.5em; text-align: right; border: none;\">\n",
       "                0.0209\n",
       "                \n",
       "                    &plusmn; 0.0338\n",
       "                \n",
       "            </td>\n",
       "            <td style=\"padding: 0 0.5em 0 0.5em; text-align: left; border: none;\">\n",
       "                weather_code_3.0\n",
       "            </td>\n",
       "        </tr>\n",
       "    \n",
       "        <tr style=\"background-color: hsl(120, 100.00%, 98.76%); border: none;\">\n",
       "            <td style=\"padding: 0 1em 0 0.5em; text-align: right; border: none;\">\n",
       "                0.0137\n",
       "                \n",
       "                    &plusmn; 0.0176\n",
       "                \n",
       "            </td>\n",
       "            <td style=\"padding: 0 0.5em 0 0.5em; text-align: left; border: none;\">\n",
       "                t1\n",
       "            </td>\n",
       "        </tr>\n",
       "    \n",
       "        <tr style=\"background-color: hsl(120, 100.00%, 98.91%); border: none;\">\n",
       "            <td style=\"padding: 0 1em 0 0.5em; text-align: right; border: none;\">\n",
       "                0.0113\n",
       "                \n",
       "                    &plusmn; 0.0158\n",
       "                \n",
       "            </td>\n",
       "            <td style=\"padding: 0 0.5em 0 0.5em; text-align: left; border: none;\">\n",
       "                weather_code_1.0\n",
       "            </td>\n",
       "        </tr>\n",
       "    \n",
       "        <tr style=\"background-color: hsl(120, 100.00%, 98.95%); border: none;\">\n",
       "            <td style=\"padding: 0 1em 0 0.5em; text-align: right; border: none;\">\n",
       "                0.0108\n",
       "                \n",
       "                    &plusmn; 0.1342\n",
       "                \n",
       "            </td>\n",
       "            <td style=\"padding: 0 0.5em 0 0.5em; text-align: left; border: none;\">\n",
       "                season_1.0\n",
       "            </td>\n",
       "        </tr>\n",
       "    \n",
       "        <tr style=\"background-color: hsl(120, 100.00%, 98.96%); border: none;\">\n",
       "            <td style=\"padding: 0 1em 0 0.5em; text-align: right; border: none;\">\n",
       "                0.0107\n",
       "                \n",
       "                    &plusmn; 0.0161\n",
       "                \n",
       "            </td>\n",
       "            <td style=\"padding: 0 0.5em 0 0.5em; text-align: left; border: none;\">\n",
       "                wind_speed\n",
       "            </td>\n",
       "        </tr>\n",
       "    \n",
       "        <tr style=\"background-color: hsl(120, 100.00%, 99.05%); border: none;\">\n",
       "            <td style=\"padding: 0 1em 0 0.5em; text-align: right; border: none;\">\n",
       "                0.0093\n",
       "                \n",
       "                    &plusmn; 0.1188\n",
       "                \n",
       "            </td>\n",
       "            <td style=\"padding: 0 0.5em 0 0.5em; text-align: left; border: none;\">\n",
       "                is_weekend_1.0\n",
       "            </td>\n",
       "        </tr>\n",
       "    \n",
       "        <tr style=\"background-color: hsl(120, 100.00%, 99.16%); border: none;\">\n",
       "            <td style=\"padding: 0 1em 0 0.5em; text-align: right; border: none;\">\n",
       "                0.0078\n",
       "                \n",
       "                    &plusmn; 0.0648\n",
       "                \n",
       "            </td>\n",
       "            <td style=\"padding: 0 0.5em 0 0.5em; text-align: left; border: none;\">\n",
       "                season_3.0\n",
       "            </td>\n",
       "        </tr>\n",
       "    \n",
       "        <tr style=\"background-color: hsl(120, 100.00%, 99.23%); border: none;\">\n",
       "            <td style=\"padding: 0 1em 0 0.5em; text-align: right; border: none;\">\n",
       "                0.0069\n",
       "                \n",
       "                    &plusmn; 0.0150\n",
       "                \n",
       "            </td>\n",
       "            <td style=\"padding: 0 0.5em 0 0.5em; text-align: left; border: none;\">\n",
       "                weather_code_26.0\n",
       "            </td>\n",
       "        </tr>\n",
       "    \n",
       "        <tr style=\"background-color: hsl(120, 100.00%, 99.66%); border: none;\">\n",
       "            <td style=\"padding: 0 1em 0 0.5em; text-align: right; border: none;\">\n",
       "                0.0021\n",
       "                \n",
       "                    &plusmn; 0.0279\n",
       "                \n",
       "            </td>\n",
       "            <td style=\"padding: 0 0.5em 0 0.5em; text-align: left; border: none;\">\n",
       "                hour\n",
       "            </td>\n",
       "        </tr>\n",
       "    \n",
       "        <tr style=\"background-color: hsl(120, 100.00%, 99.79%); border: none;\">\n",
       "            <td style=\"padding: 0 1em 0 0.5em; text-align: right; border: none;\">\n",
       "                0.0011\n",
       "                \n",
       "                    &plusmn; 0.0187\n",
       "                \n",
       "            </td>\n",
       "            <td style=\"padding: 0 0.5em 0 0.5em; text-align: left; border: none;\">\n",
       "                weather_code_10.0\n",
       "            </td>\n",
       "        </tr>\n",
       "    \n",
       "        <tr style=\"background-color: hsl(120, 100.00%, 99.83%); border: none;\">\n",
       "            <td style=\"padding: 0 1em 0 0.5em; text-align: right; border: none;\">\n",
       "                0.0008\n",
       "                \n",
       "                    &plusmn; 0.0326\n",
       "                \n",
       "            </td>\n",
       "            <td style=\"padding: 0 0.5em 0 0.5em; text-align: left; border: none;\">\n",
       "                dayofmonth\n",
       "            </td>\n",
       "        </tr>\n",
       "    \n",
       "        <tr style=\"background-color: hsl(120, 100.00%, 99.87%); border: none;\">\n",
       "            <td style=\"padding: 0 1em 0 0.5em; text-align: right; border: none;\">\n",
       "                0.0006\n",
       "                \n",
       "                    &plusmn; 0.0302\n",
       "                \n",
       "            </td>\n",
       "            <td style=\"padding: 0 0.5em 0 0.5em; text-align: left; border: none;\">\n",
       "                weather_code_7.0\n",
       "            </td>\n",
       "        </tr>\n",
       "    \n",
       "        <tr style=\"background-color: hsl(120, 100.00%, 99.87%); border: none;\">\n",
       "            <td style=\"padding: 0 1em 0 0.5em; text-align: right; border: none;\">\n",
       "                0.0006\n",
       "                \n",
       "                    &plusmn; 0.0262\n",
       "                \n",
       "            </td>\n",
       "            <td style=\"padding: 0 0.5em 0 0.5em; text-align: left; border: none;\">\n",
       "                dayofweek\n",
       "            </td>\n",
       "        </tr>\n",
       "    \n",
       "        <tr style=\"background-color: hsl(120, 100.00%, 99.89%); border: none;\">\n",
       "            <td style=\"padding: 0 1em 0 0.5em; text-align: right; border: none;\">\n",
       "                0.0004\n",
       "                \n",
       "                    &plusmn; 0.0156\n",
       "                \n",
       "            </td>\n",
       "            <td style=\"padding: 0 0.5em 0 0.5em; text-align: left; border: none;\">\n",
       "                month\n",
       "            </td>\n",
       "        </tr>\n",
       "    \n",
       "        <tr style=\"background-color: hsl(120, 100.00%, 99.91%); border: none;\">\n",
       "            <td style=\"padding: 0 1em 0 0.5em; text-align: right; border: none;\">\n",
       "                0.0003\n",
       "                \n",
       "                    &plusmn; 0.0125\n",
       "                \n",
       "            </td>\n",
       "            <td style=\"padding: 0 0.5em 0 0.5em; text-align: left; border: none;\">\n",
       "                weather_code_4.0\n",
       "            </td>\n",
       "        </tr>\n",
       "    \n",
       "        <tr style=\"background-color: hsl(120, 100.00%, 99.97%); border: none;\">\n",
       "            <td style=\"padding: 0 1em 0 0.5em; text-align: right; border: none;\">\n",
       "                0.0001\n",
       "                \n",
       "                    &plusmn; 0.0047\n",
       "                \n",
       "            </td>\n",
       "            <td style=\"padding: 0 0.5em 0 0.5em; text-align: left; border: none;\">\n",
       "                t2\n",
       "            </td>\n",
       "        </tr>\n",
       "    \n",
       "        <tr style=\"background-color: hsl(120, 100.00%, 100.00%); border: none;\">\n",
       "            <td style=\"padding: 0 1em 0 0.5em; text-align: right; border: none;\">\n",
       "                0.0000\n",
       "                \n",
       "                    &plusmn; 0.0000\n",
       "                \n",
       "            </td>\n",
       "            <td style=\"padding: 0 0.5em 0 0.5em; text-align: left; border: none;\">\n",
       "                hum\n",
       "            </td>\n",
       "        </tr>\n",
       "    \n",
       "    \n",
       "    </tbody>\n",
       "</table>\n",
       "    \n",
       "\n",
       "    \n",
       "\n",
       "\n",
       "    \n",
       "\n",
       "    \n",
       "\n",
       "    \n",
       "\n",
       "    \n",
       "\n",
       "    \n",
       "\n",
       "    \n",
       "\n",
       "\n",
       "\n"
      ],
      "text/plain": [
       "Explanation(estimator=\"GradientBoostingRegressor(alpha=0.9, ccp_alpha=0.0, criterion='friedman_mse',\\n                          init=None, learning_rate=0.1, loss='ls', max_depth=10,\\n                          max_features=None, max_leaf_nodes=None,\\n                          min_impurity_decrease=0.0, min_impurity_split=None,\\n                          min_samples_leaf=2, min_samples_split=2,\\n                          min_weight_fraction_leaf=0.0, n_estimators=100,\\n                          n_iter_no_change=None, presort='deprecated',\\n                          random_state=None, subsample=1.0, tol=0.0001,\\n                          validation_fraction=0.1, verbose=0, warm_start=False)\", description='\\nRandom forest feature importances; values are numbers 0 <= x <= 1;\\nall values sum to 1.\\n', error=None, method='feature importances', is_regression=True, targets=None, feature_importances=FeatureImportances(importances=[FeatureWeight(feature='season_0.0', weight=0.7251711496230285, std=0.22851825568536197, value=None), FeatureWeight(feature='is_holiday_0.0', weight=0.05669805215260954, std=0.026308611804826704, value=None), FeatureWeight(feature='is_weekend_0.0', weight=0.03955369657798604, std=0.061615019342470836, value=None), FeatureWeight(feature='season_2.0', weight=0.03267504802909255, std=0.040441759061993245, value=None), FeatureWeight(feature='weather_code_2.0', weight=0.024635149411424338, std=0.01621675843336914, value=None), FeatureWeight(feature='is_holiday_1.0', weight=0.02388250019477798, std=0.028721055492966264, value=None), FeatureWeight(feature='weather_code_3.0', weight=0.02089605476584832, std=0.016909536583691594, value=None), FeatureWeight(feature='t1', weight=0.013707779923237318, std=0.008777945755021175, value=None), FeatureWeight(feature='weather_code_1.0', weight=0.011326017905786237, std=0.007881622899537184, value=None), FeatureWeight(feature='season_1.0', weight=0.010839456510949188, std=0.06709888229492658, value=None), FeatureWeight(feature='wind_speed', weight=0.01068590022403689, std=0.008033095155321322, value=None), FeatureWeight(feature='is_weekend_1.0', weight=0.009279011391290322, std=0.05939582656317844, value=None), FeatureWeight(feature='season_3.0', weight=0.00777301769203939, std=0.03237954893287023, value=None), FeatureWeight(feature='weather_code_26.0', weight=0.006912279584550455, std=0.0074757363644411, value=None), FeatureWeight(feature='hour', weight=0.00210932182800655, std=0.0139719486088151, value=None), FeatureWeight(feature='weather_code_10.0', weight=0.0011090440769840784, std=0.00933564466968974, value=None), FeatureWeight(feature='dayofmonth', weight=0.000805206602621208, std=0.016303907563821354, value=None), FeatureWeight(feature='weather_code_7.0', weight=0.0005558830073879353, std=0.01511890107392308, value=None), FeatureWeight(feature='dayofweek', weight=0.0005528521556222547, std=0.013111097682627977, value=None), FeatureWeight(feature='month', weight=0.00043142420384260547, std=0.007795812033043614, value=None), FeatureWeight(feature='weather_code_4.0', weight=0.00031962621754660355, std=0.0062706584094993564, value=None), FeatureWeight(feature='t2', weight=7.992784848610616e-05, std=0.0023489611519484236, value=None), FeatureWeight(feature='hum', weight=1.6000728454534057e-06, std=2.217835998228234e-05, value=None)], remaining=0), decision_tree=None, highlight_spaces=None, transition_features=None, image=None)"
      ]
     },
     "execution_count": 118,
     "metadata": {},
     "output_type": "execute_result"
    }
   ],
   "source": [
    "# Get names of one-hot-encoded categorical columns\n",
    "onehot_cat_columns = list(pipe.named_steps['preprocessing']\\\n",
    "                          .named_transformers_['nominal']\\\n",
    "                          .named_steps['ohe']\\\n",
    "                          .get_feature_names(input_features=['weather_code','is_holiday','is_weekend', 'season']))\n",
    "\n",
    "# Get names of one-hot-encoded ordinal columns\n",
    "onehot_ord_columns = ['hour', 'dayofmonth', 'dayofweek', 'month']\n",
    "\n",
    "# Names of numeric features \n",
    "numeric_features_list = ['t1', 't2', 'hum', 'wind_speed']\n",
    "\n",
    "# Combine all feature names in the order the appear in the np array made by the pipeline\n",
    "onehot_ord_columns.extend(numeric_features_list)\n",
    "onehot_ord_columns.extend(onehot_cat_columns)\n",
    "\n",
    "# Visualize feature importance\n",
    "eli5.explain_weights(pipe.named_steps['dt'], top=50, feature_names=onehot_ord_columns)"
   ]
  },
  {
   "cell_type": "markdown",
   "id": "waiting-calculation",
   "metadata": {},
   "source": [
    "# Final Model Interpretation\n",
    "The final model that was chosen was a Gradient Boosting Regressor. Adding extra date columns, particularly the hour column, significantly improved model performance from baseline. Overall the R2 of the model was around 0.96, indicating that around 96% of the variability in the target is explained by the regression tree. While running randomizedCV on the different tree algorithms helped to isolate the best algorithm to use, there didn't seem to be much variablity in performance within the Gradient Boosting Regressor in terms of hyperparameters. Overall the performance of the model was stable. \n",
    "\n",
    "The most important feature, with a significantly higher weight than all the other features, was dummy variable Season_0.0, aka Spring. This makes sense as Spring has long periods of daylight and mild temperatures in London where this data was collected. The next most important features were holiday=false and weekend=false, indicating that these bikes may be used for daily commutes to work. The second most influential season was Summer, which also makes sense for recreational outdoor bike riding.  \n",
    "  \n",
    "This model could be very helpful to bike rental companies as it provides a prediction of the number of bikes that will be rented on a given day at a given time. Rental companies could leverage these predictions to improve advertising efficiency or strategically increase/decrease numbers of available bikes based on circumstance.  \n",
    "  \n",
    "Future steps could include expanding the scope of the model to bike rentals outside London or incorporating exogenous variables such as information about individual customers and their rental habits. Additionally, one could build a time series model to map changes in cumulative bike rentals over time."
   ]
  },
  {
   "cell_type": "markdown",
   "id": "provincial-honolulu",
   "metadata": {},
   "source": [
    "# Save model to pass into app.py"
   ]
  },
  {
   "cell_type": "code",
   "execution_count": 119,
   "id": "administrative-juice",
   "metadata": {},
   "outputs": [],
   "source": [
    "filename = 'finalized_model.sav'\n",
    "pickle.dump(pipe, open(filename, 'wb'))"
   ]
  },
  {
   "cell_type": "code",
   "execution_count": null,
   "id": "artistic-commerce",
   "metadata": {},
   "outputs": [],
   "source": []
  }
 ],
 "metadata": {
  "kernelspec": {
   "display_name": "ml",
   "language": "python",
   "name": "ml"
  },
  "language_info": {
   "codemirror_mode": {
    "name": "ipython",
    "version": 3
   },
   "file_extension": ".py",
   "mimetype": "text/x-python",
   "name": "python",
   "nbconvert_exporter": "python",
   "pygments_lexer": "ipython3",
   "version": "3.8.5"
  }
 },
 "nbformat": 4,
 "nbformat_minor": 5
}
